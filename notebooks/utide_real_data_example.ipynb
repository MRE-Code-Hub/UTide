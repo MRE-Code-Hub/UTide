{
 "cells": [
  {
   "cell_type": "code",
   "execution_count": null,
   "metadata": {
    "ExecuteTime": {
     "end_time": "2021-04-07T18:48:45.015791Z",
     "start_time": "2021-04-07T18:48:44.379460Z"
    }
   },
   "outputs": [],
   "source": [
    "%matplotlib notebook\n",
    "\n",
    "import datetime\n",
    "\n",
    "import numpy as np\n",
    "import matplotlib.pyplot as plt\n",
    "import matplotlib.dates as mdates\n",
    "\n",
    "import pandas as pd\n",
    "\n",
    "import utide\n",
    "\n",
    "print(utide.__version__)"
   ]
  },
  {
   "cell_type": "markdown",
   "metadata": {},
   "source": [
    "Look at the data file to see what structure it has."
   ]
  },
  {
   "cell_type": "code",
   "execution_count": null,
   "metadata": {
    "ExecuteTime": {
     "end_time": "2021-04-07T18:48:51.738343Z",
     "start_time": "2021-04-07T18:48:51.721594Z"
    }
   },
   "outputs": [],
   "source": [
    "with open('can1998.dtf') as f:\n",
    "    lines = f.readlines()\n",
    "print(''.join(lines[:30]))"
   ]
  },
  {
   "cell_type": "markdown",
   "metadata": {},
   "source": [
    "It looks like the fields are seconds, year, month, day, hour, elevation, flag.  We need a date parser function to combine the date and time fields into a single value to be used as the datetime index."
   ]
  },
  {
   "cell_type": "code",
   "execution_count": null,
   "metadata": {
    "ExecuteTime": {
     "end_time": "2021-04-07T18:48:59.807296Z",
     "start_time": "2021-04-07T18:48:59.691677Z"
    }
   },
   "outputs": [],
   "source": [
    "\n",
    "def date_parser(year, month, day, hour):\n",
    "    year, month, day, hour = map(int, (year, month, day, hour))\n",
    "    return datetime.datetime(year, month, day, hour)\n",
    "\n",
    "# Names of the columns that will be used to make a \"datetime\" column:\n",
    "parse_dates = dict(datetime=['year', 'month', 'day','hour'])\n",
    "\n",
    "# Names of the original columns in the file, including only\n",
    "# the ones we will use; we are skipping the first, which appears\n",
    "# to be seconds from the beginning.\n",
    "names = ['year', 'month', 'day', 'hour', 'elev', 'flag']\n",
    "\n",
    "obs = pd.read_table('can1998.dtf',\n",
    "                    names=names,\n",
    "                    skipinitialspace=True,\n",
    "                    delim_whitespace=True,\n",
    "                    index_col='datetime',\n",
    "                    usecols=range(1, 7),\n",
    "                    na_values='9.990',\n",
    "                    parse_dates=parse_dates,\n",
    "                    date_parser=date_parser,\n",
    "                   )\n",
    "obs.head(6)"
   ]
  },
  {
   "cell_type": "markdown",
   "metadata": {},
   "source": [
    "Although there are no elevations marked bad via special value, which should be `nan` after reading the file, the flag value of 2 indicates the values are unreliable, so we will mark them with `nan`, calculate the deviations of the elevations from their mean (stored in a new column called \"anomaly\"), and then interpolate to fill in the `nan` values in the anomaly."
   ]
  },
  {
   "cell_type": "code",
   "execution_count": null,
   "metadata": {
    "ExecuteTime": {
     "end_time": "2021-04-07T18:49:10.424925Z",
     "start_time": "2021-04-07T18:49:10.394298Z"
    }
   },
   "outputs": [],
   "source": [
    "bad = obs['flag'] == 2\n",
    "corrected = obs['flag'] == 1\n",
    "\n",
    "obs.loc[bad, 'elev'] = np.nan\n",
    "obs['anomaly'] = obs['elev'] - obs['elev'].mean()\n",
    "obs['anomaly'] = obs['anomaly'].interpolate()\n",
    "print('{} points were flagged \"bad\" and interpolated'.format(bad.sum()))\n",
    "print('{} points were flagged \"corrected\" and left unchanged'.format(corrected.sum()))\n"
   ]
  },
  {
   "cell_type": "markdown",
   "metadata": {},
   "source": [
    "The utide package works with ordinary numpy arrays, not with Pandas Series or Dataframes, so we need to make a `time` variable in floating point days since a given epoch, and use the `values` attribute of the elevation anomaly (a Pandas Series) to extract the underlying numpy ndarray.\n",
    "\n",
    "Update: From **2.7** pandas datetime index can be passed directly"
   ]
  },
  {
   "cell_type": "code",
   "execution_count": null,
   "metadata": {
    "ExecuteTime": {
     "end_time": "2021-04-07T18:50:30.514193Z",
     "start_time": "2021-04-07T18:50:29.975228Z"
    }
   },
   "outputs": [],
   "source": [
    "# time = mdates.date2num(obs.index.to_pydatetime())\n",
    "\n",
    "coef = utide.solve(obs.index, obs['anomaly'].values,\n",
    "                   lat=-25,\n",
    "                   method='ols',\n",
    "                   conf_int='MC')"
   ]
  },
  {
   "cell_type": "markdown",
   "metadata": {},
   "source": [
    "The amplitudes and phases from the fit are now in the `coef` data structure (a Bunch), which can be used directly in the `reconstruct` function to generate a hindcast or forecast of the tides at the times specified in the `time` array."
   ]
  },
  {
   "cell_type": "code",
   "execution_count": null,
   "metadata": {
    "ExecuteTime": {
     "end_time": "2021-04-07T18:50:36.744260Z",
     "start_time": "2021-04-07T18:50:36.734396Z"
    }
   },
   "outputs": [],
   "source": [
    "print(coef.keys())"
   ]
  },
  {
   "cell_type": "code",
   "execution_count": null,
   "metadata": {
    "ExecuteTime": {
     "end_time": "2021-04-07T18:50:56.895599Z",
     "start_time": "2021-04-07T18:50:56.504970Z"
    }
   },
   "outputs": [],
   "source": [
    "# tide = utide.reconstruct(time, coef)\n",
    "tide = utide.reconstruct(obs.index, coef)"
   ]
  },
  {
   "cell_type": "markdown",
   "metadata": {},
   "source": [
    "The output from the reconstruction is also a Bunch:"
   ]
  },
  {
   "cell_type": "code",
   "execution_count": null,
   "metadata": {
    "ExecuteTime": {
     "end_time": "2021-04-07T18:50:59.473572Z",
     "start_time": "2021-04-07T18:50:59.461815Z"
    }
   },
   "outputs": [],
   "source": [
    "print(tide.keys())"
   ]
  },
  {
   "cell_type": "code",
   "execution_count": null,
   "metadata": {
    "ExecuteTime": {
     "end_time": "2021-04-07T18:51:02.163453Z",
     "start_time": "2021-04-07T18:51:02.035621Z"
    }
   },
   "outputs": [],
   "source": [
    "#t = obs.index.values  # dtype is '<M8[ns]' (numpy datetime64)\n",
    "# It is more efficient to supply the time directly as matplotlib\n",
    "# datenum floats:\n",
    "t = tide.t_mpl\n",
    "\n",
    "fig, (ax0, ax1, ax2) = plt.subplots(nrows=3, sharey=True, sharex=True)\n",
    "\n",
    "ax0.plot(t, obs.anomaly, label=u'Observations', color='C0')\n",
    "ax1.plot(t, tide.h, label=u'Tide Fit', color='C1')\n",
    "ax2.plot(t, obs.anomaly - tide.h, label=u'Residual', color='C2')\n",
    "ax2.xaxis_date()\n",
    "fig.legend(ncol=3, loc='upper center')\n",
    "fig.autofmt_xdate()"
   ]
  },
  {
   "cell_type": "code",
   "execution_count": null,
   "metadata": {},
   "outputs": [],
   "source": []
  }
 ],
 "metadata": {
  "anaconda-cloud": {},
  "hide_input": false,
  "kernelspec": {
   "display_name": "Python 3",
   "language": "python",
   "name": "python3"
  },
  "language_info": {
   "codemirror_mode": {
    "name": "ipython",
    "version": 3
   },
   "file_extension": ".py",
   "mimetype": "text/x-python",
   "name": "python",
   "nbconvert_exporter": "python",
   "pygments_lexer": "ipython3",
   "version": "3.7.10"
  },
  "toc": {
   "base_numbering": 1,
   "nav_menu": {},
   "number_sections": true,
   "sideBar": true,
   "skip_h1_title": false,
   "title_cell": "Table of Contents",
   "title_sidebar": "Contents",
   "toc_cell": false,
   "toc_position": {},
   "toc_section_display": true,
   "toc_window_display": false
  },
  "varInspector": {
   "cols": {
    "lenName": 16,
    "lenType": 16,
    "lenVar": 40
   },
   "kernels_config": {
    "python": {
     "delete_cmd_postfix": "",
     "delete_cmd_prefix": "del ",
     "library": "var_list.py",
     "varRefreshCmd": "print(var_dic_list())"
    },
    "r": {
     "delete_cmd_postfix": ") ",
     "delete_cmd_prefix": "rm(",
     "library": "var_list.r",
     "varRefreshCmd": "cat(var_dic_list()) "
    }
   },
   "types_to_exclude": [
    "module",
    "function",
    "builtin_function_or_method",
    "instance",
    "_Feature"
   ],
   "window_display": false
  }
 },
 "nbformat": 4,
 "nbformat_minor": 1
}
