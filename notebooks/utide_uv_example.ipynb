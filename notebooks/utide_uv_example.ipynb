{
 "cells": [
  {
   "cell_type": "code",
   "execution_count": null,
   "metadata": {
    "ExecuteTime": {
     "end_time": "2021-04-07T18:53:17.691592Z",
     "start_time": "2021-04-07T18:53:17.327839Z"
    }
   },
   "outputs": [],
   "source": [
    "import utide\n",
    "\n",
    "print(utide.__version__)"
   ]
  },
  {
   "cell_type": "code",
   "execution_count": null,
   "metadata": {
    "ExecuteTime": {
     "end_time": "2021-04-07T18:53:17.697158Z",
     "start_time": "2021-04-07T18:53:17.693673Z"
    }
   },
   "outputs": [],
   "source": [
    "import numpy as np\n",
    "\n",
    "def fake_tide(t, M2amp, M2phase):\n",
    "    \"\"\"\n",
    "    Generate a minimally realistic-looking fake semidiurnal tide.\n",
    "    \n",
    "    t is time in hours\n",
    "    phases are in radians\n",
    "    \n",
    "    Modified from: http://currents.soest.hawaii.edu/ocn760_4/_static/plotting.html\n",
    "    \"\"\"\n",
    "    return M2amp * np.sin(2 * np.pi * t / 12.42 - M2phase)"
   ]
  },
  {
   "cell_type": "code",
   "execution_count": null,
   "metadata": {
    "ExecuteTime": {
     "end_time": "2021-04-07T18:53:17.884208Z",
     "start_time": "2021-04-07T18:53:17.699400Z"
    }
   },
   "outputs": [],
   "source": [
    "from pandas import date_range\n",
    "\n",
    "N = 500\n",
    "\n",
    "t = date_range(start='2016-03-29', periods=N, freq='H')\n",
    "\n",
    "# Signal + some noise.\n",
    "u = fake_tide(np.arange(N), M2amp=2, M2phase=0) + np.random.randn(N)\n",
    "v = fake_tide(np.arange(N), M2amp=1, M2phase=np.pi) + np.random.randn(N)"
   ]
  },
  {
   "cell_type": "code",
   "execution_count": null,
   "metadata": {
    "ExecuteTime": {
     "end_time": "2021-04-07T18:53:17.962416Z",
     "start_time": "2021-04-07T18:53:17.929948Z"
    }
   },
   "outputs": [],
   "source": [
    "from utide import solve\n",
    "\n",
    "coef = solve(t, u, v,\n",
    "             lat=-42.5,\n",
    "             nodal=False,\n",
    "             trend=False,\n",
    "             method='ols',\n",
    "             conf_int='linear',\n",
    "             Rayleigh_min=0.95,)"
   ]
  },
  {
   "cell_type": "code",
   "execution_count": null,
   "metadata": {
    "ExecuteTime": {
     "end_time": "2021-04-07T18:56:41.084119Z",
     "start_time": "2021-04-07T18:56:41.059737Z"
    }
   },
   "outputs": [],
   "source": [
    "from utide import reconstruct\n",
    "\n",
    "tide = reconstruct(t, coef)"
   ]
  },
  {
   "cell_type": "code",
   "execution_count": null,
   "metadata": {
    "ExecuteTime": {
     "end_time": "2021-04-07T18:53:18.000646Z",
     "start_time": "2021-04-07T18:53:17.975890Z"
    }
   },
   "outputs": [],
   "source": [
    "tide.keys()"
   ]
  },
  {
   "cell_type": "code",
   "execution_count": null,
   "metadata": {
    "ExecuteTime": {
     "end_time": "2021-04-07T18:56:44.796084Z",
     "start_time": "2021-04-07T18:56:44.439315Z"
    }
   },
   "outputs": [],
   "source": [
    "%matplotlib inline\n",
    "import matplotlib.pyplot as plt\n",
    "from matplotlib import style\n",
    "style.use('seaborn-notebook')\n",
    "\n",
    "fig, (ax0, ax1, ax2) = plt.subplots(nrows=3, sharey=True, sharex=True, figsize=(17, 5))\n",
    "\n",
    "ax0.plot(t, u, label=u'Observations')\n",
    "ax0.legend(numpoints=1, loc='lower right')\n",
    "\n",
    "ax1.plot(t, tide['u'], alpha=0.5, label=u'Prediction')\n",
    "ax1.legend(numpoints=1, loc='lower right')\n",
    "\n",
    "ax2.plot(t, u-tide['u'], alpha=0.5, label=u'Residue')\n",
    "_ = ax2.legend(numpoints=1, loc='lower right')"
   ]
  },
  {
   "cell_type": "code",
   "execution_count": null,
   "metadata": {
    "ExecuteTime": {
     "end_time": "2021-04-07T18:53:18.905236Z",
     "start_time": "2021-04-07T18:53:18.550688Z"
    }
   },
   "outputs": [],
   "source": [
    "fig, (ax0, ax1, ax2) = plt.subplots(nrows=3, sharey=True, sharex=True, figsize=(17, 5))\n",
    "\n",
    "ax0.plot(t, v, label=u'Observations')\n",
    "ax0.legend(numpoints=1, loc='lower right')\n",
    "\n",
    "ax1.plot(t, tide['v'], alpha=0.5, label=u'Prediction')\n",
    "ax1.legend(numpoints=1, loc='lower right')\n",
    "\n",
    "ax2.plot(t, v-tide['v'], alpha=0.5, label=u'Residue')\n",
    "_ = ax2.legend(numpoints=1, loc='lower right')"
   ]
  }
 ],
 "metadata": {
  "hide_input": false,
  "kernelspec": {
   "display_name": "Python 2",
   "language": "python",
   "name": "python2"
  },
  "language_info": {
   "codemirror_mode": {
    "name": "ipython",
    "version": 3
   },
   "file_extension": ".py",
   "mimetype": "text/x-python",
   "name": "python",
   "nbconvert_exporter": "python",
   "pygments_lexer": "ipython3",
   "version": "3.7.10"
  },
  "toc": {
   "base_numbering": 1,
   "nav_menu": {},
   "number_sections": true,
   "sideBar": true,
   "skip_h1_title": false,
   "title_cell": "Table of Contents",
   "title_sidebar": "Contents",
   "toc_cell": false,
   "toc_position": {},
   "toc_section_display": true,
   "toc_window_display": false
  },
  "varInspector": {
   "cols": {
    "lenName": 16,
    "lenType": 16,
    "lenVar": 40
   },
   "kernels_config": {
    "python": {
     "delete_cmd_postfix": "",
     "delete_cmd_prefix": "del ",
     "library": "var_list.py",
     "varRefreshCmd": "print(var_dic_list())"
    },
    "r": {
     "delete_cmd_postfix": ") ",
     "delete_cmd_prefix": "rm(",
     "library": "var_list.r",
     "varRefreshCmd": "cat(var_dic_list()) "
    }
   },
   "types_to_exclude": [
    "module",
    "function",
    "builtin_function_or_method",
    "instance",
    "_Feature"
   ],
   "window_display": false
  }
 },
 "nbformat": 4,
 "nbformat_minor": 1
}
